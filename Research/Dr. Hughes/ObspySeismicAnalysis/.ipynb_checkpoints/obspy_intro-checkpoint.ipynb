{
 "cells": [
  {
   "cell_type": "code",
   "execution_count": 1,
   "metadata": {
    "collapsed": true
   },
   "outputs": [],
   "source": [
    "import obspy\n",
    "import numpy as np"
   ]
  },
  {
   "cell_type": "code",
   "execution_count": 4,
   "metadata": {
    "collapsed": false
   },
   "outputs": [],
   "source": [
    "st = obspy.read(\"data/20101201.014700.A.SEED\")"
   ]
  },
  {
   "cell_type": "code",
   "execution_count": null,
   "metadata": {
    "collapsed": false,
    "scrolled": true
   },
   "outputs": [],
   "source": [
    "print(st)"
   ]
  },
  {
   "cell_type": "code",
   "execution_count": null,
   "metadata": {
    "collapsed": false
   },
   "outputs": [],
   "source": [
    "import matplotlib.pylab as plt\n",
    "from __future__ import print_function\n",
    "plt.switch_backend(\"nbagg\")\n",
    "plt.style.use('ggplot')\n",
    "plt.rcParams['figure.figsize'] = 12, 8"
   ]
  },
  {
   "cell_type": "code",
   "execution_count": null,
   "metadata": {
    "collapsed": false
   },
   "outputs": [],
   "source": [
    "st[0].stats"
   ]
  },
  {
   "cell_type": "markdown",
   "metadata": {},
   "source": [
    "The letters of the channel tells us important information about the data.\n",
    "## Band Code\n",
    "The first letter specifies the general sampling rate and the response band of the instrument. \n",
    "\n",
    "|Band code | Band type | Sample rate (Hz) | Corner period (sec)|\n",
    "|----------|-----------|------------------|--------------------|\n",
    "| F        | ...       | ≥ 1000 to < 5000 | ≥ 10 sec           |\n",
    "| G        | ...       | ≥ 1000 to < 5000 | < 10 sec           |\n",
    "| D        | ...       | ≥ 250 to < 1000  | < 10 sec           |\n",
    "|C | ... | ≥ 250 to < 1000 | ≥ 10 sec|\n",
    "|E| Extremely Short Period| ≥ 80 to < 250| < 10 sec|\n",
    "|S| Short Period| ≥ 10 to < 80 |< 10 sec|\n",
    "|H| High Broad Band| ≥ 80 to < 250 |≥ 10 sec|\n",
    "|B| Broad Band| ≥ 10 to < 80| ≥ 10 sec|\n",
    "|M| Mid Period |> 1 to < 10||\n",
    "|L| Long Period| ≈ 1| |\n",
    "|V| Very Long Period |≈ 0.1||\n",
    "|U| Ultra Long Period| ≈ 0.01||\n",
    "|R| Extremely Long Period |≥ 0.0001 to < 0.001||\n",
    "|P| On the order of 0.1 to 1 day| ≥ 0.00001 to < 0.0001||\n",
    "|T| On the order of 1 to 10 days| ≥ 0.000001 to < 0.00001||\n",
    "|Q| Greater than 10 days1 |< 0.000001||\n",
    "|A| Administrative Instrument Channel| variable| NA|\n",
    "|O| Opaque Instrument Channel |variable |NA|\n",
    "\n",
    "## Instrument Code and Orientation Code\n",
    "The second letter specifies the family to which the sensor belongs. In essence, this identifies what is being measured.\n",
    "\n",
    "The third letter in the channel name is the Orientation Code, which provides a way to indicate the directionality of the sensor measurement. This code is sometimes used for a purpose other than direction, which is instrument-specific. When orthogonal directions are used, there are traditional orientations of North (N), East (E), and Vertical (Z), as well as other orientations that can readily be converted to traditional ones. These options are detailed with each instrument type. Use N or E for the orientation when it is within 5 degrees of north or east. Use 1 or 2 when orientations are more than 5 degrees from north or east. Put the actual orientation of the sensor in the dip and azimuth fields of blockette 52. "
   ]
  },
  {
   "cell_type": "code",
   "execution_count": null,
   "metadata": {
    "collapsed": false
   },
   "outputs": [],
   "source": [
    "channel = np.array([(i,st[i].stats['channel']) for i in range(len(st))])\n",
    "E_band = []\n",
    "H_band = []\n",
    "B_band = []\n",
    "for i in range(len(channel)):\n",
    "    if channel[i,1][0] == 'E':\n",
    "        E_band.append(channel[i])\n",
    "    elif channel[i,1][0] == 'H':\n",
    "        H_band.append(channel[i])\n",
    "    elif channel[i,1][0] == 'B':\n",
    "        B_band.append(channel[i])\n",
    "        \n",
    "print(E_band[:10])\n",
    "print(H_band[:10])\n",
    "print(B_band[:10])"
   ]
  },
  {
   "cell_type": "markdown",
   "metadata": {},
   "source": [
    "In this data, there are only 3 types of bands: E, H, B. Only 3 of them have 'D' (Barometer, measuring pressure) instrument code, while the rest has 'H' (High Gain Seismometer). We will separate each band (except E_band since they're all EHZ) into separate instrument/orientation code."
   ]
  },
  {
   "cell_type": "code",
   "execution_count": null,
   "metadata": {
    "collapsed": false
   },
   "outputs": [],
   "source": [
    "HDF = []\n",
    "HHN = []\n",
    "HHE = []\n",
    "HHZ = []\n",
    "for i in range(len(H_band)):\n",
    "    if H_band[i][1][1] == 'D':\n",
    "        HDF.append(H_band[i])\n",
    "    elif H_band[i][1][2] == \"N\":\n",
    "        HHN.append(H_band[i])\n",
    "    elif H_band[i][1][2] == \"E\":\n",
    "        HHE.append(H_band[i])    \n",
    "    elif H_band[i][1][2] == \"Z\":\n",
    "        HHZ.append(H_band[i])\n",
    "\n",
    "BHN = []\n",
    "BHE = []\n",
    "BHZ = []\n",
    "for i in range(len(B_band)):\n",
    "    if B_band[i][1][2] == \"N\":\n",
    "        BHN.append(B_band[i])\n",
    "    elif B_band[i][1][2] == \"E\":\n",
    "        BHE.append(B_band[i])    \n",
    "    elif B_band[i][1][2] == \"Z\":\n",
    "        BHZ.append(B_band[i])\n",
    "        \n",
    "print(HDF)\n",
    "print(HHN[:5])\n",
    "print(HHE[:5])\n",
    "print(HHZ[:5])\n",
    "print(BHN[:5])\n",
    "print(BHE[:5])\n",
    "print(BHZ[:5])"
   ]
  },
  {
   "cell_type": "markdown",
   "metadata": {},
   "source": [
    "## EHZ Plot"
   ]
  },
  {
   "cell_type": "code",
   "execution_count": null,
   "metadata": {
    "collapsed": false
   },
   "outputs": [],
   "source": [
    "EHZ_st = obspy.core.stream.Stream()\n",
    "for c in E_band:\n",
    "    EHZ_st.append(st[int(c[0])])\n",
    "EHZ_st[:5].plot()"
   ]
  },
  {
   "cell_type": "code",
   "execution_count": null,
   "metadata": {
    "collapsed": true
   },
   "outputs": [],
   "source": []
  },
  {
   "cell_type": "code",
   "execution_count": null,
   "metadata": {
    "collapsed": false
   },
   "outputs": [],
   "source": [
    "HDF_st = obspy.core.stream.Stream()\n",
    "for c in HDF:\n",
    "    HDF_st.append(st[int(c[0])])\n",
    "HDF_st.plot()"
   ]
  },
  {
   "cell_type": "code",
   "execution_count": null,
   "metadata": {
    "collapsed": false
   },
   "outputs": [],
   "source": [
    "HHN_st = obspy.core.stream.Stream()\n",
    "for c in HHN:\n",
    "    HHN_st.append(st[int(c[0])])\n",
    "HHN_st[:5].plot()"
   ]
  },
  {
   "cell_type": "code",
   "execution_count": null,
   "metadata": {
    "collapsed": false
   },
   "outputs": [],
   "source": [
    "HHE_st = obspy.core.stream.Stream()\n",
    "for c in HHE:\n",
    "    HHE_st.append(st[int(c[0])])\n",
    "HHE_st[:5].plot()"
   ]
  },
  {
   "cell_type": "code",
   "execution_count": null,
   "metadata": {
    "collapsed": false
   },
   "outputs": [],
   "source": [
    "BHN_st = obspy.core.stream.Stream()\n",
    "for c in BHN:\n",
    "    BHN_st.append(st[int(c[0])])\n",
    "BHN_st[:5].plot()"
   ]
  },
  {
   "cell_type": "code",
   "execution_count": null,
   "metadata": {
    "collapsed": false
   },
   "outputs": [],
   "source": [
    "BHE_st = obspy.core.stream.Stream()\n",
    "for c in BHE:\n",
    "    BHE_st.append(st[int(c[0])])\n",
    "BHE_st[:5].plot()"
   ]
  },
  {
   "cell_type": "code",
   "execution_count": null,
   "metadata": {
    "collapsed": false
   },
   "outputs": [],
   "source": [
    "BHZ_st = obspy.core.stream.Stream()\n",
    "for c in BHZ:\n",
    "    BHZ_st.append(st[int(c[0])])\n",
    "BHZ_st[:5].plot()"
   ]
  },
  {
   "cell_type": "code",
   "execution_count": null,
   "metadata": {
    "collapsed": false
   },
   "outputs": [],
   "source": [
    "st[0].data.shape"
   ]
  },
  {
   "cell_type": "code",
   "execution_count": null,
   "metadata": {
    "collapsed": false
   },
   "outputs": [],
   "source": [
    "st[0].data"
   ]
  },
  {
   "cell_type": "code",
   "execution_count": null,
   "metadata": {
    "collapsed": false
   },
   "outputs": [],
   "source": [
    "st[1].data"
   ]
  },
  {
   "cell_type": "code",
   "execution_count": null,
   "metadata": {
    "collapsed": false
   },
   "outputs": [],
   "source": [
    "st[0].times()"
   ]
  },
  {
   "cell_type": "code",
   "execution_count": null,
   "metadata": {
    "collapsed": false
   },
   "outputs": [],
   "source": [
    "st[1].differentiate().data"
   ]
  },
  {
   "cell_type": "code",
   "execution_count": null,
   "metadata": {
    "collapsed": true
   },
   "outputs": [],
   "source": []
  }
 ],
 "metadata": {
  "kernelspec": {
   "display_name": "Python 3.6 Obspy",
   "language": "python",
   "name": "obspy"
  },
  "language_info": {
   "codemirror_mode": {
    "name": "ipython",
    "version": 3
   },
   "file_extension": ".py",
   "mimetype": "text/x-python",
   "name": "python",
   "nbconvert_exporter": "python",
   "pygments_lexer": "ipython3",
   "version": "3.6.3"
  }
 },
 "nbformat": 4,
 "nbformat_minor": 2
}
