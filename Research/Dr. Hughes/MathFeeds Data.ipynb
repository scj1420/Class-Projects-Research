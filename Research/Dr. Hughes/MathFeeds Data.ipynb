{
 "cells": [
  {
   "cell_type": "code",
   "execution_count": 24,
   "metadata": {
    "collapsed": true
   },
   "outputs": [],
   "source": [
    "import pandas as pd\n",
    "import xml.etree.ElementTree as ET\n",
    "from lxml import etree"
   ]
  },
  {
   "cell_type": "code",
   "execution_count": 25,
   "metadata": {
    "collapsed": false
   },
   "outputs": [],
   "source": [
    "xml_data = 'MathFeeds-Download.xml' #Location of XML data\n",
    "#Credit for this function http://www.austintaylor.io/lxml/python/pandas/xml/dataframe/2016/07/08/convert-xml-to-pandas-dataframe/    \n",
    "def xml2df(xml_data):\n",
    "    tree = ET.parse(xml_data)\n",
    "    root = tree.getroot()\n",
    "    all_records = []\n",
    "    headers = []\n",
    "    for i, child in enumerate(root):\n",
    "        record = []\n",
    "        for subchild in child:\n",
    "            record.append(subchild.text)\n",
    "            if subchild.tag not in headers:\n",
    "                headers.append(subchild.tag)\n",
    "        all_records.append(record)\n",
    "    return pd.DataFrame(all_records, columns=headers)"
   ]
  },
  {
   "cell_type": "code",
   "execution_count": 26,
   "metadata": {
    "collapsed": false
   },
   "outputs": [],
   "source": [
    "dataFrame = xml2df(xml_data)"
   ]
  },
  {
   "cell_type": "code",
   "execution_count": 28,
   "metadata": {
    "collapsed": false
   },
   "outputs": [
    {
     "data": {
      "text/html": [
       "<div>\n",
       "<table border=\"1\" class=\"dataframe\">\n",
       "  <thead>\n",
       "    <tr style=\"text-align: right;\">\n",
       "      <th></th>\n",
       "      <th>ItemID</th>\n",
       "      <th>URL</th>\n",
       "      <th>Title</th>\n",
       "      <th>Text</th>\n",
       "    </tr>\n",
       "  </thead>\n",
       "  <tbody>\n",
       "    <tr>\n",
       "      <th>0</th>\n",
       "      <td>1001</td>\n",
       "      <td>http://blogs.ams.org/mathgradblog/2017/01/05/d...</td>\n",
       "      <td>Up to Date Blog Content for JMM 2017</td>\n",
       "      <td>Skip to content\\n\\n\\nBlog\\n\\n\\nAbout\\n\\n\\nCont...</td>\n",
       "    </tr>\n",
       "    <tr>\n",
       "      <th>1</th>\n",
       "      <td>1002</td>\n",
       "      <td>http://mrhonner.com/archives/17215</td>\n",
       "      <td>Math Photo: A Dodecagon of Octagons « Mr Honner</td>\n",
       "      <td>Mr Honner\\n\\nMath Appreciation\\n\\n Skip to con...</td>\n",
       "    </tr>\n",
       "    <tr>\n",
       "      <th>2</th>\n",
       "      <td>1003</td>\n",
       "      <td>https://mathbabe.org/2017/03/21/guest-post-the...</td>\n",
       "      <td>Guest post: the age of algorithms | mathbabe</td>\n",
       "      <td>mathbabe\\n\\nExploring and venting about quanti...</td>\n",
       "    </tr>\n",
       "    <tr>\n",
       "      <th>3</th>\n",
       "      <td>1004</td>\n",
       "      <td>http://www.scientificamerican.com/podcast/epis...</td>\n",
       "      <td>Sean M. Carroll Looks at The Big Picture - Sci...</td>\n",
       "      <td>icon-captions-offCCicon-captions-onCCicon-ente...</td>\n",
       "    </tr>\n",
       "    <tr>\n",
       "      <th>4</th>\n",
       "      <td>1005</td>\n",
       "      <td>http://the-japan-news.com/news/article/0003176002</td>\n",
       "      <td>The Japan News</td>\n",
       "      <td>Not found\\n\\nThe requested server cannot be ac...</td>\n",
       "    </tr>\n",
       "  </tbody>\n",
       "</table>\n",
       "</div>"
      ],
      "text/plain": [
       "  ItemID                                                URL  \\\n",
       "0   1001  http://blogs.ams.org/mathgradblog/2017/01/05/d...   \n",
       "1   1002                 http://mrhonner.com/archives/17215   \n",
       "2   1003  https://mathbabe.org/2017/03/21/guest-post-the...   \n",
       "3   1004  http://www.scientificamerican.com/podcast/epis...   \n",
       "4   1005  http://the-japan-news.com/news/article/0003176002   \n",
       "\n",
       "                                               Title  \\\n",
       "0               Up to Date Blog Content for JMM 2017   \n",
       "1    Math Photo: A Dodecagon of Octagons « Mr Honner   \n",
       "2       Guest post: the age of algorithms | mathbabe   \n",
       "3  Sean M. Carroll Looks at The Big Picture - Sci...   \n",
       "4                                     The Japan News   \n",
       "\n",
       "                                                Text  \n",
       "0  Skip to content\\n\\n\\nBlog\\n\\n\\nAbout\\n\\n\\nCont...  \n",
       "1  Mr Honner\\n\\nMath Appreciation\\n\\n Skip to con...  \n",
       "2  mathbabe\\n\\nExploring and venting about quanti...  \n",
       "3  icon-captions-offCCicon-captions-onCCicon-ente...  \n",
       "4  Not found\\n\\nThe requested server cannot be ac...  "
      ]
     },
     "execution_count": 28,
     "metadata": {},
     "output_type": "execute_result"
    }
   ],
   "source": [
    "dataFrame.head()"
   ]
  },
  {
   "cell_type": "code",
   "execution_count": 65,
   "metadata": {
    "collapsed": false
   },
   "outputs": [
    {
     "name": "stderr",
     "output_type": "stream",
     "text": [
      "C:\\Users\\Kaden\\Anaconda3\\lib\\site-packages\\ipykernel\\__main__.py:2: FutureWarning: currently extract(expand=None) means expand=False (return Index/Series/DataFrame) but in a future version of pandas this will be changed to expand=True (return DataFrame)\n",
      "  from ipykernel import kernelapp as app\n"
     ]
    }
   ],
   "source": [
    "#In the actual scraping I didn't pull the Domain but I use a regular expression here to put it in a separate column\n",
    "dataFrame['Domain'] = dataFrame['URL'].str.extract('https*:\\/\\/(www\\.)*(?P<Domain>(.)*(\\.org|\\.com|\\.edu|\\.net|\\.gov))')['Domain']"
   ]
  },
  {
   "cell_type": "code",
   "execution_count": 66,
   "metadata": {
    "collapsed": false
   },
   "outputs": [
    {
     "data": {
      "text/html": [
       "<div>\n",
       "<table border=\"1\" class=\"dataframe\">\n",
       "  <thead>\n",
       "    <tr style=\"text-align: right;\">\n",
       "      <th></th>\n",
       "      <th>ItemID</th>\n",
       "      <th>URL</th>\n",
       "      <th>Title</th>\n",
       "      <th>Text</th>\n",
       "      <th>Domain</th>\n",
       "    </tr>\n",
       "  </thead>\n",
       "  <tbody>\n",
       "    <tr>\n",
       "      <th>count</th>\n",
       "      <td>131</td>\n",
       "      <td>131</td>\n",
       "      <td>131</td>\n",
       "      <td>131</td>\n",
       "      <td>130</td>\n",
       "    </tr>\n",
       "    <tr>\n",
       "      <th>unique</th>\n",
       "      <td>131</td>\n",
       "      <td>130</td>\n",
       "      <td>128</td>\n",
       "      <td>130</td>\n",
       "      <td>62</td>\n",
       "    </tr>\n",
       "    <tr>\n",
       "      <th>top</th>\n",
       "      <td>1025</td>\n",
       "      <td>http://www.theverge.com/2017/3/8/14835840/sam-...</td>\n",
       "      <td>Mathematics Magazine - Vol89-N4</td>\n",
       "      <td>loading...\\n\\n\\n\\nfunction forgotCredentials()...</td>\n",
       "      <td>maa.org</td>\n",
       "    </tr>\n",
       "    <tr>\n",
       "      <th>freq</th>\n",
       "      <td>1</td>\n",
       "      <td>2</td>\n",
       "      <td>2</td>\n",
       "      <td>2</td>\n",
       "      <td>12</td>\n",
       "    </tr>\n",
       "  </tbody>\n",
       "</table>\n",
       "</div>"
      ],
      "text/plain": [
       "       ItemID                                                URL  \\\n",
       "count     131                                                131   \n",
       "unique    131                                                130   \n",
       "top      1025  http://www.theverge.com/2017/3/8/14835840/sam-...   \n",
       "freq        1                                                  2   \n",
       "\n",
       "                                  Title  \\\n",
       "count                               131   \n",
       "unique                              128   \n",
       "top     Mathematics Magazine - Vol89-N4   \n",
       "freq                                  2   \n",
       "\n",
       "                                                     Text   Domain  \n",
       "count                                                 131      130  \n",
       "unique                                                130       62  \n",
       "top     loading...\\n\\n\\n\\nfunction forgotCredentials()...  maa.org  \n",
       "freq                                                    2       12  "
      ]
     },
     "execution_count": 66,
     "metadata": {},
     "output_type": "execute_result"
    }
   ],
   "source": [
    "dataFrame.describe()"
   ]
  },
  {
   "cell_type": "code",
   "execution_count": 67,
   "metadata": {
    "collapsed": false
   },
   "outputs": [
    {
     "data": {
      "text/html": [
       "<div>\n",
       "<table border=\"1\" class=\"dataframe\">\n",
       "  <thead>\n",
       "    <tr style=\"text-align: right;\">\n",
       "      <th></th>\n",
       "      <th>ItemID</th>\n",
       "      <th>URL</th>\n",
       "      <th>Title</th>\n",
       "      <th>Text</th>\n",
       "      <th>Domain</th>\n",
       "    </tr>\n",
       "  </thead>\n",
       "  <tbody>\n",
       "    <tr>\n",
       "      <th>0</th>\n",
       "      <td>1001</td>\n",
       "      <td>http://blogs.ams.org/mathgradblog/2017/01/05/d...</td>\n",
       "      <td>Up to Date Blog Content for JMM 2017</td>\n",
       "      <td>Skip to content\\n\\n\\nBlog\\n\\n\\nAbout\\n\\n\\nCont...</td>\n",
       "      <td>blogs.ams.org</td>\n",
       "    </tr>\n",
       "    <tr>\n",
       "      <th>1</th>\n",
       "      <td>1002</td>\n",
       "      <td>http://mrhonner.com/archives/17215</td>\n",
       "      <td>Math Photo: A Dodecagon of Octagons « Mr Honner</td>\n",
       "      <td>Mr Honner\\n\\nMath Appreciation\\n\\n Skip to con...</td>\n",
       "      <td>mrhonner.com</td>\n",
       "    </tr>\n",
       "    <tr>\n",
       "      <th>2</th>\n",
       "      <td>1003</td>\n",
       "      <td>https://mathbabe.org/2017/03/21/guest-post-the...</td>\n",
       "      <td>Guest post: the age of algorithms | mathbabe</td>\n",
       "      <td>mathbabe\\n\\nExploring and venting about quanti...</td>\n",
       "      <td>mathbabe.org</td>\n",
       "    </tr>\n",
       "    <tr>\n",
       "      <th>3</th>\n",
       "      <td>1004</td>\n",
       "      <td>http://www.scientificamerican.com/podcast/epis...</td>\n",
       "      <td>Sean M. Carroll Looks at The Big Picture - Sci...</td>\n",
       "      <td>icon-captions-offCCicon-captions-onCCicon-ente...</td>\n",
       "      <td>scientificamerican.com</td>\n",
       "    </tr>\n",
       "    <tr>\n",
       "      <th>4</th>\n",
       "      <td>1005</td>\n",
       "      <td>http://the-japan-news.com/news/article/0003176002</td>\n",
       "      <td>The Japan News</td>\n",
       "      <td>Not found\\n\\nThe requested server cannot be ac...</td>\n",
       "      <td>the-japan-news.com</td>\n",
       "    </tr>\n",
       "  </tbody>\n",
       "</table>\n",
       "</div>"
      ],
      "text/plain": [
       "  ItemID                                                URL  \\\n",
       "0   1001  http://blogs.ams.org/mathgradblog/2017/01/05/d...   \n",
       "1   1002                 http://mrhonner.com/archives/17215   \n",
       "2   1003  https://mathbabe.org/2017/03/21/guest-post-the...   \n",
       "3   1004  http://www.scientificamerican.com/podcast/epis...   \n",
       "4   1005  http://the-japan-news.com/news/article/0003176002   \n",
       "\n",
       "                                               Title  \\\n",
       "0               Up to Date Blog Content for JMM 2017   \n",
       "1    Math Photo: A Dodecagon of Octagons « Mr Honner   \n",
       "2       Guest post: the age of algorithms | mathbabe   \n",
       "3  Sean M. Carroll Looks at The Big Picture - Sci...   \n",
       "4                                     The Japan News   \n",
       "\n",
       "                                                Text                  Domain  \n",
       "0  Skip to content\\n\\n\\nBlog\\n\\n\\nAbout\\n\\n\\nCont...           blogs.ams.org  \n",
       "1  Mr Honner\\n\\nMath Appreciation\\n\\n Skip to con...            mrhonner.com  \n",
       "2  mathbabe\\n\\nExploring and venting about quanti...            mathbabe.org  \n",
       "3  icon-captions-offCCicon-captions-onCCicon-ente...  scientificamerican.com  \n",
       "4  Not found\\n\\nThe requested server cannot be ac...      the-japan-news.com  "
      ]
     },
     "execution_count": 67,
     "metadata": {},
     "output_type": "execute_result"
    }
   ],
   "source": [
    "dataFrame.head()"
   ]
  },
  {
   "cell_type": "code",
   "execution_count": 61,
   "metadata": {
    "collapsed": false
   },
   "outputs": [
    {
     "data": {
      "text/plain": [
       "'mathbabe\\n\\nExploring and venting about quantitative issues\\n\\n  \\n \\nHome\\n\\n \\nAbout\\n\\n \\nHCSSiM 2012\\n\\n \\nCool math books\\n\\n \\nContact\\n\\n \\n\\n   \\n\\n\\n  \\n// var searchbox = MGJS.$(\"searchbox\"); var searchtxt = MGJS.getElementsByClassName(\"textfield\", \"input\", searchbox)[0]; var searchbtn = MGJS.getElementsByClassName(\"button\", \"input\", searchbox)[0]; var tiptext = \"Type text to search here...\"; if(searchtxt.value == \"\" || searchtxt.value == tiptext) { searchtxt.className += \" searchtip\"; searchtxt.value = tiptext; } searchtxt.onfocus = function(e) { if(searchtxt.value == tiptext) { searchtxt.value = \"\"; searchtxt.className = searchtxt.className.replace(\" searchtip\", \"\"); } } searchtxt.onblur = function(e) { if(searchtxt.value == \"\") { searchtxt.className += \" searchtip\"; searchtxt.value = tiptext; } } searchbtn.onclick = function(e) { if(searchtxt.value == \"\" || searchtxt.value == tiptext) { return false; } } //   \\n  \\n \\n\\nHome > Uncategorized > Guest post: the age of algorithms \\n\\n\\nGuest post: the age of algorithms\\n\\n\\nMarch 21, 2017\\n\\nCathy O\\'Neil, mathbabe\\n\\n\\n\\nArtie has kindly allowed me to post his thoughtful email to me regarding my NYU conversation with Julia Angwin last month.\\n\\nThis is a guest post by Arthur Doskow, who is currently retired but remains interested in the application and overapplication of mathematical and data oriented techniques in business and society. Artie has a BS in Math and an MS that is technically in Urban Engineering, but the coursework was mostly in Operations Research. He spent the largest part of my professional life working for a large telco (that need not be named) on protocols, interconnection testing and network security. He is a co-inventor on several patents. He also volunteers as a tutor.\\n\\nDear Dr. O’Neil and Ms. Angwin,\\n\\nI had the pleasure of watching the livestream of your discussion at NYU on February 15. I wanted to offer a few thoughts. I’ll try to be brief.\\nAlgorithms are difficult, and the ones that were discussed were being asked to make difficult decisions. Although it was not discussed, it would be a mistake to assume a priori that there is an effective mechanized and quantitative process by which good decisions can be made with regard to any particular matter. If someone cannot describe in detail how they would evaluate a teacher, or make a credit decision or a hiring decision or a parole decision, then it’s hard to imagine how they would devise an algorithm that would reliably perform the function in their stead. While it seems intuitively obvious that there are better teachers and worse teachers, reformed convicts and likely recidivist criminals and other similar distinctions, it is not (or should not be) equally obvious that the location of an individual on these continua can be reliably determined by quantitative methods. Reliance on a quantitative decision methodology essentially replaces a (perhaps arbitrary) individual bias with what may be a reliable and consistent algorithmic bias. Whether or not that represents an improvement must be assessed on a situation by situation basis.\\nBeyond this stark “solvability” issue, of course, are the issues of how to set objectives for how an algorithm should perform (this was discussed with respect to the possible performance objectives of a parole evaluation system) and the devising, validating and implementing of a prospective system. This is a significant and demanding set of activities for any organization, but the alternative of procuring an outsourced “black box” solution requires, at the least, an understanding and an assessment of how these issues were addressed.\\nIf an organization is considering outsourcing an algorithmic decision system, the RFP process offers them an invaluable opportunity to learn and assess how a proposed system is designed and how it will work – What inputs does it use? How does its decision engine operate? How has it been validated? How will it cover certain test cases? Where has it been used? To what effect? Etc. Organizations that do not take advantage of an RFP process to ask these detailed questions and demand thorough and responsive answers have only themselves to blame.\\nWhile a developers’ code of ethics is certainly a good thing, the development, marketing and support of a proposed solution is a shared task for which all members of the team must share responsibility – coders, system designers and specifiers, testers, marketers, trainers, support staff, executives. There is no single point of responsibility that can guarantee either a correct or an ethical implementation. Perhaps, in the same way that a CEO must personally sign off on all financial filings, the CEO of a company offering an evaluative system should be required to sign off on the legality, effectiveness and accuracy of claims made regarding the system.\\nSoftware contracts are notoriously developer-friendly, basically absolving the developer of all possible consequences arising out of the use of their product. This needs to change, particularly in the case of systems sold as “black box” solutions to a purchaser’s needs, and contracts should be negotiated in which the developer retains significant responsibility and liability.\\nAs I think was pointed out, there is a broad range of analysis and modeling techniques, ranging from expert systems that seek to encode human knowledge, to heuristic learning system such as neural nets. While heuristic systems have the potential to ferret out non-intuitive relationships, their results obviously require a much higher degree of scrutiny. Part of me wonders how IBM and Watson would do at developing decision systems.\\nExtensive testing and analysis should be required before any system “goes live”. It is disappointing to hear that “algorithm auditing” does not seem to be a thriving business, and, depending on the definition of “algorithm auditing”, I may be suggesting even more. Perhaps “algorithm testing” would be a more attractive sounding service name. Beyond requiring an analytical assessment of underlying data requirements and assessment algorithms, systems should be tested using an extensive set of test cases. Test cases should be assessed in advance by other (e.g., human expert) means, and system results should be examined for plausibility and for sanity. Another set of test cases should assess performance with extreme (e.g., best case, worst case) scenarios to check for system sanity. Another possibility is “side by side” testing, in which the system will “shadow” the current implementation, either concurrently or in retrospect and the results will be compared.\\nPsychological and other pre-employment tests, described in Weapons of Math Destruction, are problematic in two ways. First is whether it is appropriate to conduct them at all, and second is whether they are effective in their stated purpose (i.e., to select the best prospective employees, or those best matched to the position in question). Certainly, competency testing is an appropriate part of candidate selection, but whether psychological characteristics are a component of competency is arguable, at best. At the very least, however, such testing should be assessed as to whether it predicts what it claims to predict, and whether that characteristic is emblematic of work effectiveness. How to conduct such testing would require some creativity. Testing could be conducted on an “incoming class” of employees, whether prior to hiring, or after hiring with the test results being sequestered (neither reported to company management nor used in any evaluation process). After some period (1 – 2 years), the qualitative measures of employee performance and effectiveness could be compared to the sequestered test results and examined for correlation. Another possibility would be to identify a disinterested company with employees performing similar work. (By disinterested, I mean disinterested in using the evaluative test in question.) Employees of that company could be asked to undergo “risk free” testing, with results again being sequestered from their employer. The quantitative test results could then be compared to the qualitative measures of employee performance and effectiveness used by that employer. Whatever one thinks of such testing, as Weapons of Math Destruction correctly points out, to the extent to which it is used, efforts should be made to test and improve its efficacy. To the extent that such testing is promoted by an outside party, that party should be ready, willing and able to demonstrate observed effectiveness.\\nAn interesting alternative to a proprietary black box system would be what might be called a meta-system, a configurable engine which would allow its procurer to specify the inputs, weightings and the manner in which they are used to formulate a decision, perhaps offering a drag and drop software interface to specify the decision algorithm. Such a system would leave the fundamentals of the decision algorithm design to the purchasing company, but simply facilitate its implementation.\\nOne must always be cautious the possibility of inherent bias in data. As a simple example, recidivism is most easily estimated by the proportion of released convicts who are re-arrested. But if recidivism is actually defined by the percentage of released convicts who return to criminal life, then the estimate is likely skewed in several ways. Some recidivists will be caught; others will not. For example, some types of crime are more heavily investigated than others, leading to higher re-arrest rates. Further, even among perpetrators of the same crime, investigation and enforcement may well be targeted more to some areas than to others.\\nAs was pointed out during the discussion, being fair, being humane may cost money. And this is the real issue with many algorithms. In economists’ terms, the inhumanity associated with an algorithm could be referred to as an externality. Optimization has its origins with the solutions to problem in the inanimate world, how to inspect mass produced parts for flaws, how to cut a board to obtain the most salable pieces of lumber, how to minimize the lengths of circuit traces on a PC board. There were problems that touched on human behavior, scheduling issues, or traveling salesman type problems, but not to the extent that they ignored humane considerations. We are now to the point where we have human beings being compared to poisonous Skittles, and where life altering decisions of great import (hiring, firing parole, assessment, scheduling, etc.) are being subjected to optimization processes, often of questionable validity, which objectify people, view them as resources or threats, and give little or no consideration to the very human consequences of their deployment. Assuming that your good work can drive to this consensus, there is a fork in the road as to how it can be addressed. One way would be to attempt to implement humane costs, benefits and constraints into the models being deployed and optimize on that basis. The other is to stand back and monitor applications for their human costs and attempt to address them iteratively. Or, as Yogi said, you can come to the fork and take it.\\n\\n\\n\\n\\nShare this:\\n\\nTwitter\\nFacebook18\\nGoogle\\nEmail\\nPrint\\nReddit\\n\\n\\n\\nLike this:\\n\\nLike Loading...\\n\\n\\nRelated\\n\\n\\n\\nThree Ideas for defusing Weapons of Math Destruction\\n\\nWith 13 comments\\n\\n\\nAge of Algorithms: Data, Democracy and the News Event at NYU Journalism 2/15\\n\\nWith 2 comments\\n\\n\\nLobbyists have another reason to dominate public commenting #OWS\\n\\nIn \"#OWS\"\\n\\n\\n\\nCategories: \\nUncategorized  \\n \\n\\n\\nComments (3)\\n \\n \\n\\n \\n \\nhowardat58 \\n \\n\\nMarch 21, 2017 at 5:06 pm \\n \\n\\n \\n\\n\\nThis is very sound advice.\\n\\nLike\\nLike\\n  \\n \\n\\n \\n\\n \\n \\nSteven McKay \\n \\n\\nMarch 22, 2017 at 9:51 am \\n \\n\\n \\n\\n\\nRegarding point #4, in my experience there usually is a single person responsible for results generated by implementing an algorithm. I really like the idea of creating some guidelines – even a check list – for what keeps an algorithm relatively ethical. Such people worry a lot about how the performance of the algorithm will differ in market vs as designed and often pay particular attention to how consumers will react.\\n\\nLike\\nLike\\n  \\n \\n\\n \\n\\n \\n \\nhypergeometric \\n \\n\\nMarch 24, 2017 at 5:36 pm \\n \\n\\n \\n\\n\\nI agree that having a substantial test engineering activity for any algorithm or algorithm implementation should be a stark prerequisite before they are given any responsibility. There is a long and established tradition of doing this for systems which might overtly endanger people’s lives, such as air traffic control, airborne and space controls, medical devices, and electrical generating station controls. \\n\\nKey to this activity is including the test organization in the writing of formal requirements for the system under development. This is essential in order for the requirements to be both objectively testable, and to be testable within a reasonable budget. For example, I once was a test engineer for a system whose requirements document demanded it achieve a classification success rate having a couple of 9’s past the decimal point. I indicated to management that such a testing programme would likely go on for years. They relented.\\n\\nThis is particularly crucial if the system under test is trained using machine learning (“ML”) techniques rather than developed as more-or-less conventional software. In the latter case, components are open to inspection. While proprietary systems developed with ML might have diagnostic and visualization components which provide insight into their behavior and why things are done, a lot of the power of ML-derived systems are because a lot can be specified without the attention to detail conventional software demands. However, that does not build confidence when the system under test is being used to effectively make important decisions. If anything, an ML-derived system demands an even more challenging test programme, including fuzz testing of scenarios. Test plans and the performance of the system ought to be available to customers for inspection, perhaps under NDA. \\n\\nUltimately, as the NASA Columbia Accident Board (“CAIB”) declared, the test organization needs to be independent of the organization responsible for the product delivery, a recommendation which is seldom true, even in aerospace testing today. \\n\\nFinally, models of the deployed system ought to have enough diagnostic recording built in so performance in the field can be monitored while in use, and guidelines for protecting private information for these purposes devised and built into the procurement contracts. Only in that way can the developers know whether the product is being used outside of its testing domain or is erring in some way. Perhaps liability for gross deviations ought to be clearly and indivisibly tied to the developer of the product.\\n\\nLike\\nLiked by 1 person\\n  \\n \\n\\n   No trackbacks yet. \\n  \\nComments are closed.\\n \\nGuest Post: In Praise of Globes Dystopian Bloomberg Posts: Price Discrimination and Snap \\n  \\n \\n \\n\\n\\n\\nRSS feed\\n\\n\\nGoogle\\n\\n\\n\\nYoudao\\n\\n\\n\\nXian Guo\\n\\n\\n\\nZhua Xia\\n\\n\\n\\nMy Yahoo!\\n\\n\\n\\nnewsgator\\n\\n\\n\\nBloglines\\n\\n\\n\\niNezha\\n\\n \\n \\n\\n\\n\\n\\n\\n\\n\\nTop Posts & Pages\\n Why log returns?  \\n Cool math books  \\n Don\\'t Expect Tech to Care About Your Problems  \\n Piper Harron discusses her artistic and wonderful math Ph.D. thesis  \\n About  \\n K-Nearest Neighbors: dangerously simple  \\n On Being Lane Bryant Fat  \\n Contact  \\n Fuck trigonometry  \\n Math contests kind of suck  \\n\\n\\nI’m now on twitter…\\nRT @eisingerj: Incredible. That $110B Saudi arms deal Kushner \"negotiated\" wasn\\'t an actual deal and wasn\\'t new.  brookings.edu/blog/markaz/20… 2 hours ago \\nThis is what I think about when I think about EdTech and its accompanied surveillance.  twitter.com/rolliwrites/st… 17 hours ago \\nRT @BarmakN: The next frontier in antitrust law makes Silicon Valley *very* nervous  wired.com/2017/06/ntitru… via @WIRED 19 hours ago \\n@CivArchive ...or deal with the opioid epidemic. 22 hours ago \\n@mpetitchou oh sorry. I didn\\'t actually read the article. 23 hours ago \\n\\n\\nFollow Blog via Email\\n\\n\\nEnter your email address to follow this blog and receive notifications of new posts by email.\\n\\n\\n\\n       \\n\\n\\nRecent Posts\\nDon’t Expect Tech to Care About Your Problems \\nWhat If Robots Did the Hiring at Fox News? \\nPeriod Equity (tampon) Hat! \\nEugene Stern: How Value Added Models are Like Turds \\nTrump’s Path-Independent Theory of Mind \\nUnreliable Data Can Threaten Democracy \\n100 Day Blanket \\nThe VAM Might Finally be Dead \\n\\n\\nMeta\\nRegister\\nLog in\\nEntries RSS\\nComments RSS\\nWordPress.com\\n \\n  \\n\\nTop\\n\\nBlog at WordPress.com. \\n     /*  */ var WPGroHo = {\"my_hash\":\"\"}; /*  */   //initialize and attach hovercards to all gravatars jQuery( document ).ready( function( $ ) { if (typeof Gravatar === \"undefined\"){ return; } if ( typeof Gravatar.init !== \"function\" ) { return; } Gravatar.profile_cb = function( hash, id ) { WPGroHo.syncProfileData( hash, id ); }; Gravatar.my_hash = WPGroHo.my_hash; Gravatar.init( \\'body\\', \\'#wp-admin-bar-my-account\\' ); });  \\n\\n\\n\\n\\n\\n\\nwindow.WPCOM_sharing_counts = {\"https:\\\\/\\\\/mathbabe.org\\\\/2017\\\\/03\\\\/21\\\\/guest-post-the-age-of-algorithms\\\\/\":17741};  var windowOpen; jQuery(document).on( \\'ready post-load\\', function(){ jQuery( \\'a.share-twitter\\' ).on( \\'click\\', function() { if ( \\'undefined\\' !== typeof windowOpen ){ // If there\\'s another sharing window open, close it. windowOpen.close(); } windowOpen = window.open( jQuery(this).attr( \\'href\\' ), \\'wpcomtwitter\\', \\'menubar=1,resizable=1,width=600,height=350\\' ); return false; }); });  var windowOpen; jQuery(document).on( \\'ready post-load\\', function(){ jQuery( \\'a.share-facebook\\' ).on( \\'click\\', function() { if ( \\'undefined\\' !== typeof windowOpen ){ // If there\\'s another sharing window open, close it. windowOpen.close(); } windowOpen = window.open( jQuery(this).attr( \\'href\\' ), \\'wpcomfacebook\\', \\'menubar=1,resizable=1,width=600,height=400\\' ); return false; }); });  var windowOpen; jQuery(document).on( \\'ready post-load\\', function(){ jQuery( \\'a.share-google-plus-1\\' ).on( \\'click\\', function() { if ( \\'undefined\\' !== typeof windowOpen ){ // If there\\'s another sharing window open, close it. windowOpen.close(); } windowOpen = window.open( jQuery(this).attr( \\'href\\' ), \\'wpcomgoogle-plus-1\\', \\'menubar=1,resizable=1,width=480,height=550\\' ); return false; }); });   /*  */ var comment_like_text = {\"loading\":\"Loading...\"}; /*  */  /*  */ var actionbardata = {\"siteID\":\"24025059\",\"siteName\":\"mathbabe\",\"siteURL\":\"https:\\\\/\\\\/mathbabe.org\",\"icon\":\"<img alt=\\'\\' src=\\'https:\\\\/\\\\/secure.gravatar.com\\\\/blavatar\\\\/c115a49b92e0fdcfbc20325ae39bb830?s=50&d=https%3A%2F%2Fs1.wp.com%2Fi%2Flogo%2Fwpcom-gray-white.png\\' class=\\'avatar avatar-50\\' height=\\'50\\' width=\\'50\\' \\\\/>\",\"canManageOptions\":\"\",\"canCustomizeSite\":\"\",\"isFollowing\":\"\",\"themeSlug\":\"pub\\\\/inove\",\"signupURL\":\"https:\\\\/\\\\/wordpress.com\\\\/start\\\\/\",\"loginURL\":\"https:\\\\/\\\\/mathbabe.wordpress.com\\\\/wp-login.php?redirect_to=https%3A%2F%2Fmathbabe.org%2F2017%2F03%2F21%2Fguest-post-the-age-of-algorithms%2F\",\"themeURL\":\"\",\"xhrURL\":\"https:\\\\/\\\\/mathbabe.org\\\\/wp-admin\\\\/admin-ajax.php\",\"nonce\":\"013b6fd537\",\"isSingular\":\"1\",\"isFolded\":\"\",\"isLoggedIn\":\"\",\"isMobile\":\"\",\"subscribeNonce\":\"<input type=\\\\\"hidden\\\\\" id=\\\\\"_wpnonce\\\\\" name=\\\\\"_wpnonce\\\\\" value=\\\\\"41d45694cd\\\\\" \\\\/>\",\"referer\":\"https:\\\\/\\\\/mathbabe.org\\\\/2017\\\\/03\\\\/21\\\\/guest-post-the-age-of-algorithms\\\\/\",\"canFollow\":\"1\",\"statusMessage\":\"\",\"customizeLink\":\"https:\\\\/\\\\/mathbabe.wordpress.com\\\\/wp-admin\\\\/customize.php?url=https%3A%2F%2Fmathbabe.wordpress.com%2F2017%2F03%2F21%2Fguest-post-the-age-of-algorithms%2F\",\"postID\":\"17741\",\"shortlink\":\"http:\\\\/\\\\/wp.me\\\\/p1CO0X-4C9\",\"canEditPost\":\"\",\"editLink\":\"https:\\\\/\\\\/wordpress.com\\\\/post\\\\/mathbabe.org\\\\/17741\",\"statsLink\":\"https:\\\\/\\\\/wordpress.com\\\\/stats\\\\/post\\\\/17741\\\\/mathbabe.org\",\"i18n\":{\"view\":\"View site\",\"follow\":\"Follow\",\"following\":\"Following\",\"edit\":\"Edit\",\"login\":\"Log in\",\"signup\":\"Sign up\",\"customize\":\"Customize\",\"report\":\"Report this content\",\"themeInfo\":\"Get theme: INove\",\"shortlink\":\"Copy shortlink\",\"copied\":\"Copied\",\"followedText\":\"New posts from this site will now appear in your <a href=\\\\\"https:\\\\/\\\\/wordpress.com\\\\/\\\\\">Reader<\\\\/a>\",\"foldBar\":\"Collapse this bar\",\"unfoldBar\":\"Expand this bar\",\"editSubs\":\"Manage subscriptions\",\"viewReader\":\"View site in the Reader\",\"subscribe\":\"Sign me up\",\"enterEmail\":\"Enter your email address\",\"followers\":\"Join 5,192 other followers\",\"alreadyUser\":\"Already have a WordPress.com account? <a href=\\\\\"https:\\\\/\\\\/mathbabe.wordpress.com\\\\/wp-login.php?redirect_to=https%3A%2F%2Fmathbabe.org%2F2017%2F03%2F21%2Fguest-post-the-age-of-algorithms%2F\\\\\">Log in now.<\\\\/a>\",\"stats\":\"Stats\"}}; /*  */  /*  */ var sharing_js_options = {\"lang\":\"en\",\"counts\":\"1\"}; /*  */  \\n \\nFollow\\n\\n\\n\\n\\n \\n\\n\\n\\n mathbabe\\n\\n\\nCustomize\\n\\n\\nFollow\\n\\n\\nSign up\\n\\n\\nLog in\\n\\n\\nCopy shortlink\\n\\n\\nReport this content\\n\\n\\nManage subscriptions\\n\\n\\nCollapse this bar\\n\\n\\n //  (function() { try{ if ( window.external &&\\'msIsSiteMode\\' in window.external) { if (window.external.msIsSiteMode()) { var jl = document.createElement(\\'script\\'); jl.type=\\'text/javascript\\'; jl.async=true; jl.src=\\'/wp-content/plugins/ie-sitemode/custom-jumplist.php\\'; var s = document.getElementsByTagName(\\'script\\')[0]; s.parentNode.insertBefore(jl, s); } } }catch(e){} })(); //    \\n\\n%d bloggers like this:\\nvar _comscore = _comscore || []; _comscore.push({ c1: \"2\", c2: \"7518284\" }); (function() { var s = document.createElement(\"script\"), el = document.getElementsByTagName(\"script\")[0]; s.defer = true; s.src = (document.location.protocol == \"https:\" ? \"https://sb\" : \"http://b\") + \".scorecardresearch.com/beacon.js\"; el.parentNode.insertBefore(s, el); })();  <p class=\"robots-nocontent\"><img src=\"https://sb.scorecardresearch.com/p?c1=2&c2=7518284&c3=&c4=&c5=&c6=&c15=&cv=2.0&cj=1\" alt=\"\" style=\"display:none;\" width=\"1\" height=\"1\" /></p>  _tkq = window._tkq || []; _stq = window._stq || []; _tkq.push([\\'storeContext\\', {\\'blog_id\\':\\'24025059\\',\\'blog_tz\\':\\'-4\\',\\'user_lang\\':\\'en\\',\\'blog_lang\\':\\'en\\',\\'user_id\\':\\'0\\'}]); _stq.push([\\'view\\', {\\'blog\\':\\'24025059\\',\\'v\\':\\'wpcom\\',\\'tz\\':\\'-4\\',\\'user_id\\':\\'0\\',\\'post\\':\\'17741\\',\\'subd\\':\\'mathbabe\\'}]); _stq.push([\\'extra\\', {\\'crypt\\':\\'UE40eW5QN0p8M2Y/RE1TaVhzUzFMbjdWNHpwZGhTayxPSUFCMGRVYVNrSFguN3FwSmQ5RGtNX3VQcj1yVzhiflM1THQtLGFdQ2toOXYlV3hOJWpIZ11Rd2xMeDlZb2V2eXo2W25EOGt2TkJzaVh2U2Q9MStpVHhpR1UuU2lPMD1oMlR6V2Q2Q35fdHVZbkgwbkpLVnQvdFdzLVBZNn5FZ2VKdy5VbVR1eTBdMC9nJms9Ky4xK2YvbmVGZEpmaEc3JWg0LGdDelR0RzBpWk5UWkJfSERZW2MsMFlLbFg/U3VNL3k3XVE/Zj9mUlk0Y24zNGtmL0dzZGxYQ1RhQ0tzS0g4NUQ9ZE52S05jLFVtOU8rVnw5Z1VueFY1NUl5Z0NhdTZ2d01lUkJfMHNMTG0yTnlKZUdJ\\'}]); _stq.push([ \\'clickTrackerInit\\', \\'24025059\\', \\'17741\\' ]);  <img src=\"https://pixel.wp.com/b.gif?v=noscript\" style=\"height:0px;width:0px;overflow:hidden\" alt=\"\" /> if ( \\'object\\' === typeof wpcom_mobile_user_agent_info ) { wpcom_mobile_user_agent_info.init(); var mobileStatsQueryString = \"\"; if( false !== wpcom_mobile_user_agent_info.matchedPlatformName ) mobileStatsQueryString += \"&x_\" + \\'mobile_platforms\\' + \\'=\\' + wpcom_mobile_user_agent_info.matchedPlatformName; if( false !== wpcom_mobile_user_agent_info.matchedUserAgentName ) mobileStatsQueryString += \"&x_\" + \\'mobile_devices\\' + \\'=\\' + wpcom_mobile_user_agent_info.matchedUserAgentName; if( wpcom_mobile_user_agent_info.isIPad() ) mobileStatsQueryString += \"&x_\" + \\'ipad_views\\' + \\'=\\' + \\'views\\'; if( \"\" != mobileStatsQueryString ) { new Image().src = document.location.protocol + \\'//pixel.wp.com/g.gif?v=wpcom-no-pv\\' + mobileStatsQueryString + \\'&baba=\\' + Math.random(); } }  \\n\\n\\n\\nSend to Email Address\\n \\nYour Name\\n \\nYour Email Address\\n  document.getElementById(\\'jetpack-source_f_name\\').value = \\'\\';  \\n   Cancel \\nPost was not sent - check your email addresses! \\n\\nEmail check failed, please try again \\n\\nSorry, your blog cannot share posts by email. \\nwindow.alert = function mDoNothing() {}window.confirm = function mReturnTrue() {return true;} if (!window.console) window.console = {}; function mReplaceLoggingFunctions() { // union of Chrome, FF, IE, and Safari console methods var mLogFunctionArray = [ \\'log\\', \\'info\\', \\'warn\\', \\'error\\', \\'debug\\', \\'trace\\', \\'dir\\', \\'group\\', \\'groupCollapsed\\', \\'groupEnd\\', \\'time\\', \\'timeEnd\\', \\'profile\\', \\'profileEnd\\', \\'dirxml\\', \\'assert\\', \\'count\\', \\'markTimeline\\', \\'timeStamp\\' , \\'clear\\' ]; // define undefined methods to prevent errors for (var i = 0; i < mLogFunctionArray.length; i++) { if (!window.console[mLogFunctionArray[i]]) window.console[mLogFunctionArray[i]] = function() {}; } window.console.log = function (debugStatement) { window.external.Log(debugStatement); } } mReplaceLoggingFunctions(); window.open = function mWindowOpen(param1, param2, param3) { window.name = param2; if( param1 != null && param1 != \"\") window.location = param1; }window.showModalDialog = function mWindowShowModalDialog(param1, param2, param3) { window.name = param2; if( param1 != null && param1 != \"\") window.location = param1; }window.showModelessDialog = function mWindowShowModlessDialog(param1, param2, param3) { window.name = param2; if( param1 != null && param1 != \"\") window.location = param1; } // Assign the current document.open function to our own variable. document.mDocumentOpenNormal = document.open; document.open = function mDocumentOpen(param1, param2, param3) { window.name = param2; if(param1 && param2 && param3) window.location = param1; else return document.mDocumentOpenNormal(param1, param2, param3); }Date.prototype.toLocaleDateStringDefault = Date.prototype.toLocaleDateString; Date.prototype.toLocaleDateString = function mToLocaleDateString(param1, param2) { return this.toLocaleDateStringDefault(param1, param2).replace(/[\\u200e]/g, \\'\\'); }'"
      ]
     },
     "execution_count": 61,
     "metadata": {},
     "output_type": "execute_result"
    }
   ],
   "source": [
    "dataFrame['Text'][2]"
   ]
  }
 ],
 "metadata": {
  "kernelspec": {
   "display_name": "Python 3",
   "language": "python",
   "name": "python3"
  },
  "language_info": {
   "codemirror_mode": {
    "name": "ipython",
    "version": 3
   },
   "file_extension": ".py",
   "mimetype": "text/x-python",
   "name": "python",
   "nbconvert_exporter": "python",
   "pygments_lexer": "ipython3",
   "version": "3.6.0"
  }
 },
 "nbformat": 4,
 "nbformat_minor": 0
}
