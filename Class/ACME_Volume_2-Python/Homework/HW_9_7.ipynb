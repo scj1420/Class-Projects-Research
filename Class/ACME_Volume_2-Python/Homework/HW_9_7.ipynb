{
 "cells": [
  {
   "cell_type": "markdown",
   "metadata": {
    "collapsed": true
   },
   "source": [
    "# Homework for Volume 2, Section 9.7\n",
    "## Seong-Eun Cho"
   ]
  },
  {
   "cell_type": "code",
   "execution_count": 1,
   "metadata": {
    "collapsed": true
   },
   "outputs": [],
   "source": [
    "import numpy as np\n",
    "from matplotlib import pyplot as plt\n",
    "import numpy.polynomial.legendre as lg\n",
    "%matplotlib inline"
   ]
  },
  {
   "cell_type": "markdown",
   "metadata": {
    "collapsed": true
   },
   "source": [
    "## Problem 9.34"
   ]
  },
  {
   "cell_type": "code",
   "execution_count": 9,
   "metadata": {
    "collapsed": false
   },
   "outputs": [
    {
     "data": {
      "text/plain": [
       "(array([-0.90617985, -0.53846931,  0.        ,  0.53846931,  0.90617985]),\n",
       " array([ 0.23692689,  0.47862867,  0.56888889,  0.47862867,  0.23692689]))"
      ]
     },
     "execution_count": 9,
     "metadata": {},
     "output_type": "execute_result"
    }
   ],
   "source": [
    "# your code here, per problem\n",
    "w = lg.leggauss(5)\n",
    "w"
   ]
  },
  {
   "cell_type": "code",
   "execution_count": 15,
   "metadata": {
    "collapsed": true
   },
   "outputs": [],
   "source": [
    "def quad(f, n):\n",
    "    w = lg.leggauss(n)\n",
    "    return np.sum(f(w[0])*w[1])"
   ]
  },
  {
   "cell_type": "code",
   "execution_count": 16,
   "metadata": {
    "collapsed": false
   },
   "outputs": [
    {
     "data": {
      "text/plain": [
       "1.8279713817206171"
      ]
     },
     "execution_count": 16,
     "metadata": {},
     "output_type": "execute_result"
    }
   ],
   "source": [
    "f = lambda x: np.sqrt(np.cos(x))\n",
    "quad(f, 5)"
   ]
  },
  {
   "cell_type": "code",
   "execution_count": 17,
   "metadata": {
    "collapsed": false
   },
   "outputs": [],
   "source": [
    "f1 = lambda x: abs(x)\n",
    "f2 = lambda x: np.cos(x)"
   ]
  },
  {
   "cell_type": "code",
   "execution_count": 24,
   "metadata": {
    "collapsed": false
   },
   "outputs": [
    {
     "name": "stdout",
     "output_type": "stream",
     "text": [
      "Error for abs(x): \n",
      "n = 10: 0.00752169053112\n",
      "n = 20: 0.00196130012072\n",
      "n = 30: 0.000884993372247\n",
      "n = 40: 0.000501703632475\n",
      "n = 50: 0.000322618525709\n",
      "n = 60: 0.000224757778751\n",
      "n = 70: 0.000165508020876\n",
      "n = 80: 0.000126936687102\n",
      "n = 90: 0.000100431314198\n",
      "n = 100: 8.14376325282e-05\n",
      "Error for cos(x): \n",
      "n = 10: 0.0\n",
      "n = 20: 6.66133814775e-16\n",
      "n = 30: 2.22044604925e-15\n",
      "n = 40: 3.5527136788e-15\n",
      "n = 50: 2.44249065418e-15\n",
      "n = 60: 1.99840144433e-15\n",
      "n = 70: 8.881784197e-16\n",
      "n = 80: 1.33226762955e-15\n",
      "n = 90: 4.4408920985e-16\n",
      "n = 100: 2.22044604925e-15\n"
     ]
    }
   ],
   "source": [
    "print(\"Error for abs(x): \")\n",
    "for i in range(1,11):    \n",
    "    print(\"n = \" + str(i*10) + \": \" + str(abs(quad(f1, i*10) - 1)))\n",
    "\n",
    "print(\"Error for cos(x): \")\n",
    "for i in range(1,11):    \n",
    "    print(\"n = \" + str(i*10) + \": \" + str(abs(quad(f2, i*10) - np.sin(1)*2)))"
   ]
  },
  {
   "cell_type": "markdown",
   "metadata": {},
   "source": [
    "$cos(x)$ is a lot more accurate than $|x|$ because of the simple fact that $cos(x)$ is a smooth function that is easily approximated by polynomials while $|x|$ has a discontinuity, which cannot ever be exactly approximated by a continuous polynomial, no matter how large the degree."
   ]
  },
  {
   "cell_type": "code",
   "execution_count": null,
   "metadata": {
    "collapsed": true
   },
   "outputs": [],
   "source": []
  }
 ],
 "metadata": {
  "kernelspec": {
   "display_name": "Python 3",
   "language": "python",
   "name": "python3"
  },
  "language_info": {
   "codemirror_mode": {
    "name": "ipython",
    "version": 3
   },
   "file_extension": ".py",
   "mimetype": "text/x-python",
   "name": "python",
   "nbconvert_exporter": "python",
   "pygments_lexer": "ipython3",
   "version": "3.6.0"
  }
 },
 "nbformat": 4,
 "nbformat_minor": 2
}
