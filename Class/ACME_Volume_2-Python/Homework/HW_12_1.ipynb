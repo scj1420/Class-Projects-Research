{
 "cells": [
  {
   "cell_type": "markdown",
   "metadata": {
    "collapsed": true
   },
   "source": [
    "# Homework for Volume 2, Section 12.1\n",
    "## Seong-Eun Cho"
   ]
  },
  {
   "cell_type": "code",
   "execution_count": 3,
   "metadata": {
    "collapsed": true
   },
   "outputs": [],
   "source": [
    "import numpy as np\n",
    "import scipy.linalg as la"
   ]
  },
  {
   "cell_type": "markdown",
   "metadata": {},
   "source": [
    "# 12.4"
   ]
  },
  {
   "cell_type": "code",
   "execution_count": 4,
   "metadata": {
    "collapsed": true
   },
   "outputs": [],
   "source": [
    "'''\n",
    "\"Q: n x n simple matrix\n",
    "\"x0, b: arrays of length\n",
    "\"e: constant\n",
    "'''\n",
    "def SteepestDescentQuadratic(Q, x0, b, e):\n",
    "    Df = lambda x: Q@x - b\n",
    "    a = lambda x: np.dot(Df(x), Df(x))/np.dot(Df(x), Q@Df(x))\n",
    "    def _descend(xk):\n",
    "        if la.norm(Df(xk)) < e:\n",
    "            return xk\n",
    "        else:\n",
    "            return _descend(xk - a(xk)*Df(xk))\n",
    "    return _descend(x0)"
   ]
  },
  {
   "cell_type": "code",
   "execution_count": 5,
   "metadata": {
    "collapsed": false
   },
   "outputs": [
    {
     "data": {
      "text/plain": [
       "array([-1.42857244, -0.8857158 ,  3.71428849])"
      ]
     },
     "execution_count": 5,
     "metadata": {},
     "output_type": "execute_result"
    }
   ],
   "source": [
    "Q = np.array([[9, 0, 4],[0, 5, 2], [1, 0, 2]])\n",
    "x0 = np.array([4,2,6])\n",
    "b = np.array([2,3,6])\n",
    "SteepestDescentQuadratic(Q, x0, b, 1e-5)"
   ]
  },
  {
   "cell_type": "code",
   "execution_count": 6,
   "metadata": {
    "collapsed": false
   },
   "outputs": [
    {
     "data": {
      "text/plain": [
       "array([-1.42857143, -0.88571429,  3.71428571])"
      ]
     },
     "execution_count": 6,
     "metadata": {},
     "output_type": "execute_result"
    }
   ],
   "source": [
    "la.inv(Q)@b"
   ]
  },
  {
   "cell_type": "markdown",
   "metadata": {},
   "source": [
    "# 12.5"
   ]
  },
  {
   "cell_type": "code",
   "execution_count": 9,
   "metadata": {
    "collapsed": true
   },
   "outputs": [],
   "source": [
    "def forwardDf(f, x, e):\n",
    "    h = np.sqrt(e)\n",
    "    iden = np.eye(len(x))\n",
    "    return np.array([(f(x + h*iden[i]) - f(x)) / h for i in range(len(x))])"
   ]
  },
  {
   "cell_type": "markdown",
   "metadata": {},
   "source": [
    "# 12.6,7"
   ]
  },
  {
   "cell_type": "code",
   "execution_count": 8,
   "metadata": {
    "collapsed": false
   },
   "outputs": [],
   "source": [
    "def secant(f, x0, x1, e):\n",
    "    h = np.sqrt(e)\n",
    "    def deriv(f, x, e):\n",
    "        return (f(x + h) - f(x)) / h\n",
    "    \n",
    "    def _step(xk1, xk2):\n",
    "        print(xk1, xk2)\n",
    "        if abs(xk2-xk1) < abs(xk1)*e:\n",
    "            return xk2\n",
    "        else:\n",
    "            xk3 = xk2 - deriv(f, xk2, e) * (xk2 - xk1)/(deriv(f, xk2, e) - deriv(f, xk1, e))\n",
    "            return _step(xk2, xk3)\n",
    "    return _step(x0, x1)\n",
    "\n",
    "def SteepestDescent(f, x0, e):\n",
    "    def _descend(xk):\n",
    "        Df = forwardDf(f, xk, e)\n",
    "        phi = lambda a: f(xk - a*forwardDf(f,xk,e))\n",
    "        a = secant(phi, 0, e, e)\n",
    "        if la.norm(Df) < e:\n",
    "            return xk\n",
    "        else:\n",
    "            return _descend(xk - a*Df)\n",
    "    return _descend(x0)"
   ]
  },
  {
   "cell_type": "code",
   "execution_count": null,
   "metadata": {
    "collapsed": true
   },
   "outputs": [],
   "source": [
    "f1 = lambda x: x[0]**2 + x[1]**2\n",
    "f = lambda x: 100*(x[1]-x[0]**2)**2 + (1-x[0])**2\n",
    "x0 = [-2,-2]\n",
    "SteepestDescent(f, x0, 1e-5)"
   ]
  },
  {
   "cell_type": "code",
   "execution_count": null,
   "metadata": {
    "collapsed": true
   },
   "outputs": [],
   "source": []
  }
 ],
 "metadata": {
  "kernelspec": {
   "display_name": "Python 3",
   "language": "python",
   "name": "python3"
  },
  "language_info": {
   "codemirror_mode": {
    "name": "ipython",
    "version": 3
   },
   "file_extension": ".py",
   "mimetype": "text/x-python",
   "name": "python",
   "nbconvert_exporter": "python",
   "pygments_lexer": "ipython3",
   "version": "3.6.0"
  }
 },
 "nbformat": 4,
 "nbformat_minor": 2
}
