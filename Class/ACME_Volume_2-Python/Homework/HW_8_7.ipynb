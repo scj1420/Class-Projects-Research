{
 "cells": [
  {
   "cell_type": "markdown",
   "metadata": {
    "collapsed": true
   },
   "source": [
    "# Homework for Section 8.7\n",
    "## Your Name Here\n",
    "#### Your Section number here"
   ]
  },
  {
   "cell_type": "code",
   "execution_count": 3,
   "metadata": {
    "collapsed": true
   },
   "outputs": [],
   "source": [
    "import numpy as np\n",
    "from matplotlib import pyplot as plt\n",
    "%matplotlib inline"
   ]
  },
  {
   "cell_type": "markdown",
   "metadata": {
    "collapsed": true
   },
   "source": [
    "## Problem 8.42"
   ]
  },
  {
   "cell_type": "code",
   "execution_count": 4,
   "metadata": {
    "collapsed": false
   },
   "outputs": [],
   "source": [
    "# your code here, per problem\n",
    "\n",
    "phi = np.array([0, (1+np.sqrt(3))/2, (1-np.sqrt(3))/2, 0])\n",
    "h = np.array([(1+np.sqrt(3))/4, (3+np.sqrt(3))/4, (3-np.sqrt(3))/4, (1-np.sqrt(3))/4])\n",
    "\n",
    "def db2(phi, x):\n",
    "    if x < 0:\n",
    "        return 0\n",
    "    if x > 3:\n",
    "        return 0\n",
    "    n = len(phi)\n",
    "    denom = (n-1)/3\n",
    "    i = int(x*denom)\n",
    "    return phi[i]\n",
    "\n",
    "def generate_db2(phi, h, k):\n",
    "    if k < 10:\n",
    "        temp = np.insert(phi, slice(1, None), 0) \n",
    "        for i in range(len(phi)-1):\n",
    "            denom = 2*(len(phi)-1)/3\n",
    "            x = (2*i+1)/denom\n",
    "            temp[2*i+1] = sum([h[k]*db2(phi,2*x-k) for k in range(4)])\n",
    "        \n",
    "        return generate_db2(temp, h, k+1)\n",
    "    else:\n",
    "        return phi\n"
   ]
  },
  {
   "cell_type": "code",
   "execution_count": 5,
   "metadata": {
    "collapsed": false
   },
   "outputs": [
    {
     "data": {
      "text/plain": [
       "array([  0.00000000e+00,   3.01819002e-02,   4.41893688e-02, ...,\n",
       "         8.43028628e-08,  -1.54284947e-08,   0.00000000e+00])"
      ]
     },
     "execution_count": 5,
     "metadata": {},
     "output_type": "execute_result"
    }
   ],
   "source": [
    "phi = generate_db2(phi, h, 0)\n",
    "phi"
   ]
  },
  {
   "cell_type": "code",
   "execution_count": 6,
   "metadata": {
    "collapsed": false
   },
   "outputs": [
    {
     "data": {
      "image/png": "[encoded data removed]",
      "text/plain": [
       "<matplotlib.figure.Figure at 0x108c0fcf8>"
      ]
     },
     "metadata": {},
     "output_type": "display_data"
    }
   ],
   "source": [
    "x = np.linspace(0,3,len(phi), endpoint=True)\n",
    "plt.plot(x, phi)\n",
    "plt.title(\"Father wavelets\")\n",
    "plt.show()"
   ]
  },
  {
   "cell_type": "code",
   "execution_count": 7,
   "metadata": {
    "collapsed": false
   },
   "outputs": [
    {
     "data": {
      "text/plain": [
       "3073"
      ]
     },
     "execution_count": 7,
     "metadata": {},
     "output_type": "execute_result"
    }
   ],
   "source": [
    "len(phi)"
   ]
  },
  {
   "cell_type": "code",
   "execution_count": 13,
   "metadata": {
    "collapsed": false
   },
   "outputs": [],
   "source": [
    "def generate_db2_mother(psi, phi, h, k):\n",
    "    if len(psi) == 0:\n",
    "        temp = np.zeros(4)\n",
    "        for i in range(4):\n",
    "            x = i\n",
    "            temp[i] = sum([(-1)**k*h[3-k]*db2(phi,2*x-k) for k in range(4)])\n",
    "        return generate_db2_mother(temp,phi,h,k)\n",
    "    elif k < 10:\n",
    "        temp = np.insert(psi, slice(1, None), 0) \n",
    "        for i in range(len(psi)-1):\n",
    "            denom = 2*(len(psi)-1)/3\n",
    "            x = (2*i+1)/denom\n",
    "            temp[2*i+1] = sum([(-1)**k*h[3-k]*db2(phi,2*x-k) for k in range(4)])\n",
    "        \n",
    "        return generate_db2_mother(temp, phi, h, k+1)\n",
    "    else:\n",
    "        return psi"
   ]
  },
  {
   "cell_type": "code",
   "execution_count": 14,
   "metadata": {
    "collapsed": false
   },
   "outputs": [],
   "source": [
    "psi = generate_db2_mother([], phi, h, 0)"
   ]
  },
  {
   "cell_type": "code",
   "execution_count": 15,
   "metadata": {
    "collapsed": false
   },
   "outputs": [
    {
     "data": {
      "image/png": "[encoded data removed]",
      "text/plain": [
       "<matplotlib.figure.Figure at 0x10a4c2dd8>"
      ]
     },
     "metadata": {},
     "output_type": "display_data"
    }
   ],
   "source": [
    "y = np.linspace(0,3,len(psi), endpoint=True)\n",
    "plt.plot(y, psi)\n",
    "plt.title(\"Mother wavelets\")\n",
    "plt.show()"
   ]
  },
  {
   "cell_type": "code",
   "execution_count": 16,
   "metadata": {
    "collapsed": false
   },
   "outputs": [
    {
     "data": {
      "text/plain": [
       "3073"
      ]
     },
     "execution_count": 16,
     "metadata": {},
     "output_type": "execute_result"
    }
   ],
   "source": [
    "len(psi)"
   ]
  },
  {
   "cell_type": "code",
   "execution_count": 18,
   "metadata": {
    "collapsed": false
   },
   "outputs": [
    {
     "data": {
      "text/plain": [
       "0.99999999999999956"
      ]
     },
     "execution_count": 18,
     "metadata": {},
     "output_type": "execute_result"
    }
   ],
   "source": [
    "import scipy.integrate\n",
    "scipy.integrate.simps(phi, x)"
   ]
  },
  {
   "cell_type": "code",
   "execution_count": null,
   "metadata": {
    "collapsed": true
   },
   "outputs": [],
   "source": []
  }
 ],
 "metadata": {
  "kernelspec": {
   "display_name": "Python 3",
   "language": "python",
   "name": "python3"
  },
  "language_info": {
   "codemirror_mode": {
    "name": "ipython",
    "version": 3
   },
   "file_extension": ".py",
   "mimetype": "text/x-python",
   "name": "python",
   "nbconvert_exporter": "python",
   "pygments_lexer": "ipython3",
   "version": "3.6.0"
  }
 },
 "nbformat": 4,
 "nbformat_minor": 2
}
